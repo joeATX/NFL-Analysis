{
 "cells": [
  {
   "cell_type": "code",
   "execution_count": 64,
   "metadata": {},
   "outputs": [],
   "source": [
    "import pandas as pd\n",
    "import numpy as np"
   ]
  },
  {
   "cell_type": "code",
   "execution_count": 65,
   "metadata": {},
   "outputs": [],
   "source": [
    "df = pd.read_csv('data/nfl_team_stats_2002-2023.csv')\n",
    "df1 = df.copy()"
   ]
  },
  {
   "cell_type": "code",
   "execution_count": 66,
   "metadata": {},
   "outputs": [
    {
     "data": {
      "text/html": [
       "<div>\n",
       "<style scoped>\n",
       "    .dataframe tbody tr th:only-of-type {\n",
       "        vertical-align: middle;\n",
       "    }\n",
       "\n",
       "    .dataframe tbody tr th {\n",
       "        vertical-align: top;\n",
       "    }\n",
       "\n",
       "    .dataframe thead th {\n",
       "        text-align: right;\n",
       "    }\n",
       "</style>\n",
       "<table border=\"1\" class=\"dataframe\">\n",
       "  <thead>\n",
       "    <tr style=\"text-align: right;\">\n",
       "      <th></th>\n",
       "      <th>season</th>\n",
       "      <th>week</th>\n",
       "      <th>date</th>\n",
       "      <th>away</th>\n",
       "      <th>home</th>\n",
       "      <th>score_away</th>\n",
       "      <th>score_home</th>\n",
       "      <th>first_downs_away</th>\n",
       "      <th>first_downs_home</th>\n",
       "      <th>third_down_comp_away</th>\n",
       "      <th>...</th>\n",
       "      <th>redzone_comp_home</th>\n",
       "      <th>redzone_att_home</th>\n",
       "      <th>fumbles_away</th>\n",
       "      <th>fumbles_home</th>\n",
       "      <th>interceptions_away</th>\n",
       "      <th>interceptions_home</th>\n",
       "      <th>def_st_td_away</th>\n",
       "      <th>def_st_td_home</th>\n",
       "      <th>possession_away</th>\n",
       "      <th>possession_home</th>\n",
       "    </tr>\n",
       "  </thead>\n",
       "  <tbody>\n",
       "    <tr>\n",
       "      <th>0</th>\n",
       "      <td>2002</td>\n",
       "      <td>1</td>\n",
       "      <td>2002-09-05</td>\n",
       "      <td>49ers</td>\n",
       "      <td>Giants</td>\n",
       "      <td>16</td>\n",
       "      <td>13</td>\n",
       "      <td>13</td>\n",
       "      <td>21</td>\n",
       "      <td>4</td>\n",
       "      <td>...</td>\n",
       "      <td>0</td>\n",
       "      <td>6</td>\n",
       "      <td>0</td>\n",
       "      <td>0</td>\n",
       "      <td>1</td>\n",
       "      <td>3</td>\n",
       "      <td>0</td>\n",
       "      <td>0</td>\n",
       "      <td>27:32</td>\n",
       "      <td>32:28</td>\n",
       "    </tr>\n",
       "    <tr>\n",
       "      <th>1</th>\n",
       "      <td>2002</td>\n",
       "      <td>1</td>\n",
       "      <td>2002-09-08</td>\n",
       "      <td>Jets</td>\n",
       "      <td>Bills</td>\n",
       "      <td>37</td>\n",
       "      <td>31</td>\n",
       "      <td>18</td>\n",
       "      <td>26</td>\n",
       "      <td>2</td>\n",
       "      <td>...</td>\n",
       "      <td>0</td>\n",
       "      <td>8</td>\n",
       "      <td>1</td>\n",
       "      <td>1</td>\n",
       "      <td>0</td>\n",
       "      <td>2</td>\n",
       "      <td>2</td>\n",
       "      <td>0</td>\n",
       "      <td>21:06</td>\n",
       "      <td>39:08</td>\n",
       "    </tr>\n",
       "    <tr>\n",
       "      <th>2</th>\n",
       "      <td>2002</td>\n",
       "      <td>1</td>\n",
       "      <td>2002-09-08</td>\n",
       "      <td>Vikings</td>\n",
       "      <td>Bears</td>\n",
       "      <td>23</td>\n",
       "      <td>27</td>\n",
       "      <td>19</td>\n",
       "      <td>20</td>\n",
       "      <td>5</td>\n",
       "      <td>...</td>\n",
       "      <td>0</td>\n",
       "      <td>6</td>\n",
       "      <td>1</td>\n",
       "      <td>1</td>\n",
       "      <td>2</td>\n",
       "      <td>1</td>\n",
       "      <td>0</td>\n",
       "      <td>0</td>\n",
       "      <td>31:31</td>\n",
       "      <td>28:29</td>\n",
       "    </tr>\n",
       "    <tr>\n",
       "      <th>3</th>\n",
       "      <td>2002</td>\n",
       "      <td>1</td>\n",
       "      <td>2002-09-08</td>\n",
       "      <td>Chargers</td>\n",
       "      <td>Bengals</td>\n",
       "      <td>34</td>\n",
       "      <td>6</td>\n",
       "      <td>27</td>\n",
       "      <td>13</td>\n",
       "      <td>6</td>\n",
       "      <td>...</td>\n",
       "      <td>0</td>\n",
       "      <td>5</td>\n",
       "      <td>0</td>\n",
       "      <td>0</td>\n",
       "      <td>0</td>\n",
       "      <td>1</td>\n",
       "      <td>0</td>\n",
       "      <td>0</td>\n",
       "      <td>37:48</td>\n",
       "      <td>22:12</td>\n",
       "    </tr>\n",
       "    <tr>\n",
       "      <th>4</th>\n",
       "      <td>2002</td>\n",
       "      <td>1</td>\n",
       "      <td>2002-09-08</td>\n",
       "      <td>Chiefs</td>\n",
       "      <td>Browns</td>\n",
       "      <td>40</td>\n",
       "      <td>39</td>\n",
       "      <td>24</td>\n",
       "      <td>24</td>\n",
       "      <td>5</td>\n",
       "      <td>...</td>\n",
       "      <td>0</td>\n",
       "      <td>10</td>\n",
       "      <td>0</td>\n",
       "      <td>1</td>\n",
       "      <td>1</td>\n",
       "      <td>0</td>\n",
       "      <td>0</td>\n",
       "      <td>0</td>\n",
       "      <td>30:16</td>\n",
       "      <td>29:44</td>\n",
       "    </tr>\n",
       "  </tbody>\n",
       "</table>\n",
       "<p>5 rows × 53 columns</p>\n",
       "</div>"
      ],
      "text/plain": [
       "   season week        date      away     home  score_away  score_home  \\\n",
       "0    2002    1  2002-09-05     49ers   Giants          16          13   \n",
       "1    2002    1  2002-09-08      Jets    Bills          37          31   \n",
       "2    2002    1  2002-09-08   Vikings    Bears          23          27   \n",
       "3    2002    1  2002-09-08  Chargers  Bengals          34           6   \n",
       "4    2002    1  2002-09-08    Chiefs   Browns          40          39   \n",
       "\n",
       "   first_downs_away  first_downs_home  third_down_comp_away  ...  \\\n",
       "0                13                21                     4  ...   \n",
       "1                18                26                     2  ...   \n",
       "2                19                20                     5  ...   \n",
       "3                27                13                     6  ...   \n",
       "4                24                24                     5  ...   \n",
       "\n",
       "   redzone_comp_home  redzone_att_home  fumbles_away  fumbles_home  \\\n",
       "0                  0                 6             0             0   \n",
       "1                  0                 8             1             1   \n",
       "2                  0                 6             1             1   \n",
       "3                  0                 5             0             0   \n",
       "4                  0                10             0             1   \n",
       "\n",
       "   interceptions_away  interceptions_home  def_st_td_away  def_st_td_home  \\\n",
       "0                   1                   3               0               0   \n",
       "1                   0                   2               2               0   \n",
       "2                   2                   1               0               0   \n",
       "3                   0                   1               0               0   \n",
       "4                   1                   0               0               0   \n",
       "\n",
       "   possession_away  possession_home  \n",
       "0            27:32            32:28  \n",
       "1            21:06            39:08  \n",
       "2            31:31            28:29  \n",
       "3            37:48            22:12  \n",
       "4            30:16            29:44  \n",
       "\n",
       "[5 rows x 53 columns]"
      ]
     },
     "execution_count": 66,
     "metadata": {},
     "output_type": "execute_result"
    }
   ],
   "source": [
    "df.head()"
   ]
  },
  {
   "cell_type": "markdown",
   "metadata": {},
   "source": [
    "#### Check for any missing data"
   ]
  },
  {
   "cell_type": "code",
   "execution_count": 67,
   "metadata": {},
   "outputs": [
    {
     "data": {
      "text/plain": [
       "season                   0\n",
       "week                     0\n",
       "date                     0\n",
       "away                     0\n",
       "home                     0\n",
       "score_away               0\n",
       "score_home               0\n",
       "first_downs_away         0\n",
       "first_downs_home         0\n",
       "third_down_comp_away     0\n",
       "third_down_att_away      0\n",
       "third_down_comp_home     0\n",
       "third_down_att_home      0\n",
       "fourth_down_comp_away    0\n",
       "fourth_down_att_away     0\n",
       "fourth_down_comp_home    0\n",
       "fourth_down_att_home     0\n",
       "plays_away               0\n",
       "plays_home               0\n",
       "drives_away              0\n",
       "drives_home              0\n",
       "yards_away               0\n",
       "yards_home               0\n",
       "pass_comp_away           0\n",
       "pass_att_away            0\n",
       "pass_yards_away          0\n",
       "pass_comp_home           0\n",
       "pass_att_home            0\n",
       "pass_yards_home          0\n",
       "sacks_num_away           0\n",
       "sacks_yards_away         0\n",
       "sacks_num_home           0\n",
       "sacks_yards_home         0\n",
       "rush_att_away            0\n",
       "rush_yards_away          0\n",
       "rush_att_home            0\n",
       "rush_yards_home          0\n",
       "pen_num_away             0\n",
       "pen_yards_away           0\n",
       "pen_num_home             0\n",
       "pen_yards_home           0\n",
       "redzone_comp_away        0\n",
       "redzone_att_away         0\n",
       "redzone_comp_home        0\n",
       "redzone_att_home         0\n",
       "fumbles_away             0\n",
       "fumbles_home             0\n",
       "interceptions_away       0\n",
       "interceptions_home       0\n",
       "def_st_td_away           0\n",
       "def_st_td_home           0\n",
       "possession_away          0\n",
       "possession_home          0\n",
       "dtype: int64"
      ]
     },
     "execution_count": 67,
     "metadata": {},
     "output_type": "execute_result"
    }
   ],
   "source": [
    "df.isna().sum()"
   ]
  },
  {
   "cell_type": "markdown",
   "metadata": {},
   "source": [
    "- Check for any duplicated data"
   ]
  },
  {
   "cell_type": "code",
   "execution_count": 68,
   "metadata": {},
   "outputs": [
    {
     "data": {
      "text/plain": [
       "0"
      ]
     },
     "execution_count": 68,
     "metadata": {},
     "output_type": "execute_result"
    }
   ],
   "source": [
    "df.duplicated().sum()"
   ]
  },
  {
   "cell_type": "markdown",
   "metadata": {},
   "source": [
    "- Row and columns"
   ]
  },
  {
   "cell_type": "code",
   "execution_count": 69,
   "metadata": {},
   "outputs": [
    {
     "data": {
      "text/plain": [
       "(5929, 53)"
      ]
     },
     "execution_count": 69,
     "metadata": {},
     "output_type": "execute_result"
    }
   ],
   "source": [
    "df.shape"
   ]
  },
  {
   "cell_type": "markdown",
   "metadata": {},
   "source": [
    "- Combine score away and home to create a winner column"
   ]
  },
  {
   "cell_type": "code",
   "execution_count": 70,
   "metadata": {},
   "outputs": [],
   "source": [
    "df['winner'] = (df['score_home'] > df['score_away']).astype(int)"
   ]
  },
  {
   "cell_type": "code",
   "execution_count": 71,
   "metadata": {},
   "outputs": [
    {
     "data": {
      "text/plain": [
       "dtype('int64')"
      ]
     },
     "execution_count": 71,
     "metadata": {},
     "output_type": "execute_result"
    }
   ],
   "source": [
    "df['winner'].dtype"
   ]
  },
  {
   "cell_type": "markdown",
   "metadata": {},
   "source": [
    "- Create a column for 4th down completion %"
   ]
  },
  {
   "cell_type": "code",
   "execution_count": 74,
   "metadata": {},
   "outputs": [],
   "source": [
    "df['fourth_down__away'] = (df1['fourth_down_comp_away'] / df['fourth_down_att_away']) * 100\n",
    "# Handle NaN values (if any) and convert to integers\n",
    "df['fourth_down__away'] = np.nan_to_num(df['fourth_down__away'], nan=0).astype(int)"
   ]
  },
  {
   "cell_type": "code",
   "execution_count": 75,
   "metadata": {},
   "outputs": [
    {
     "data": {
      "text/plain": [
       "dtype('int64')"
      ]
     },
     "execution_count": 75,
     "metadata": {},
     "output_type": "execute_result"
    }
   ],
   "source": [
    "df['fourth_down__away'].dtype"
   ]
  },
  {
   "cell_type": "code",
   "execution_count": 76,
   "metadata": {},
   "outputs": [],
   "source": [
    "df['fourth_down__home'] = (df['fourth_down_comp_home'] / df['fourth_down_att_home']) * 100\n",
    "df['fourth_down__home'] = np.nan_to_num(df['fourth_down__home'], nan=0).astype(int)"
   ]
  },
  {
   "cell_type": "code",
   "execution_count": 77,
   "metadata": {},
   "outputs": [
    {
     "data": {
      "text/plain": [
       "dtype('int64')"
      ]
     },
     "execution_count": 77,
     "metadata": {},
     "output_type": "execute_result"
    }
   ],
   "source": [
    "df['fourth_down__home'].dtype"
   ]
  },
  {
   "cell_type": "markdown",
   "metadata": {},
   "source": [
    "- Create a column for 3rd down completion %"
   ]
  },
  {
   "cell_type": "code",
   "execution_count": 78,
   "metadata": {},
   "outputs": [],
   "source": [
    "df['third_down_away'] = (df['third_down_comp_away'] / df['third_down_att_away']) * 100\n",
    "df['third_down_away'] = np.nan_to_num(df['third_down_away'], nan=0).astype(int)"
   ]
  },
  {
   "cell_type": "code",
   "execution_count": 79,
   "metadata": {},
   "outputs": [
    {
     "data": {
      "text/plain": [
       "dtype('int64')"
      ]
     },
     "execution_count": 79,
     "metadata": {},
     "output_type": "execute_result"
    }
   ],
   "source": [
    "df['third_down_away'].dtype"
   ]
  },
  {
   "cell_type": "code",
   "execution_count": 80,
   "metadata": {},
   "outputs": [],
   "source": [
    "df['third_down_home'] = (df['third_down_comp_home'] / df['third_down_att_home']) * 100\n",
    "df['third_down_home'] = np.nan_to_num(df['third_down_home'], nan=0).astype(int)"
   ]
  },
  {
   "cell_type": "code",
   "execution_count": 81,
   "metadata": {},
   "outputs": [
    {
     "data": {
      "text/plain": [
       "dtype('int64')"
      ]
     },
     "execution_count": 81,
     "metadata": {},
     "output_type": "execute_result"
    }
   ],
   "source": [
    "df['third_down_home'].dtype"
   ]
  },
  {
   "cell_type": "markdown",
   "metadata": {},
   "source": [
    "- Convert pass completion %"
   ]
  },
  {
   "cell_type": "code",
   "execution_count": 82,
   "metadata": {},
   "outputs": [],
   "source": [
    "df['pass_percentage_away'] = (df['pass_comp_away'] / df['pass_att_away']) * 100\n",
    "df['pass_percentage_away'] = np.nan_to_num(df['pass_percentage_away'], nan=0).astype(int)"
   ]
  },
  {
   "cell_type": "code",
   "execution_count": 83,
   "metadata": {},
   "outputs": [],
   "source": [
    "df['pass_percentage_home'] = (df['pass_comp_home'] / df['pass_att_home']) * 100\n",
    "df['pass_percentage_home'] = np.nan_to_num(df['pass_percentage_home'], nan=0).astype(int)"
   ]
  },
  {
   "cell_type": "code",
   "execution_count": 84,
   "metadata": {},
   "outputs": [
    {
     "data": {
      "text/plain": [
       "dtype('int64')"
      ]
     },
     "execution_count": 84,
     "metadata": {},
     "output_type": "execute_result"
    }
   ],
   "source": [
    "df['pass_percentage_home'].dtype"
   ]
  },
  {
   "cell_type": "code",
   "execution_count": 87,
   "metadata": {},
   "outputs": [
    {
     "data": {
      "text/plain": [
       "0"
      ]
     },
     "execution_count": 87,
     "metadata": {},
     "output_type": "execute_result"
    }
   ],
   "source": [
    "df['pass_percentage_home'].isna().sum()"
   ]
  },
  {
   "cell_type": "markdown",
   "metadata": {},
   "source": [
    "- Drop pass comp & att columns now that we converted to a %"
   ]
  },
  {
   "cell_type": "code",
   "execution_count": 103,
   "metadata": {},
   "outputs": [],
   "source": [
    "# df.drop(columns=['pass_comp_away', 'pass_att_away', 'pass_comp_home', 'pass_att_home'], axis=1)"
   ]
  },
  {
   "cell_type": "markdown",
   "metadata": {},
   "source": [
    "- Convert red zone to %"
   ]
  },
  {
   "cell_type": "code",
   "execution_count": 91,
   "metadata": {},
   "outputs": [],
   "source": [
    "df['redzone_percentage_home'] = (df['redzone_comp_home'] / df['redzone_att_home']) * 100\n",
    "df['redzone_percentage_home'] = np.nan_to_num(df['redzone_percentage_home'], nan=0).astype(int)"
   ]
  },
  {
   "cell_type": "code",
   "execution_count": 92,
   "metadata": {},
   "outputs": [
    {
     "data": {
      "text/plain": [
       "dtype('int64')"
      ]
     },
     "execution_count": 92,
     "metadata": {},
     "output_type": "execute_result"
    }
   ],
   "source": [
    "df['redzone_percentage_home'].dtype"
   ]
  },
  {
   "cell_type": "code",
   "execution_count": 93,
   "metadata": {},
   "outputs": [
    {
     "data": {
      "text/plain": [
       "0"
      ]
     },
     "execution_count": 93,
     "metadata": {},
     "output_type": "execute_result"
    }
   ],
   "source": [
    "df['redzone_percentage_home'].isna().sum()"
   ]
  },
  {
   "cell_type": "code",
   "execution_count": 94,
   "metadata": {},
   "outputs": [],
   "source": [
    "df['redzone_percentage_away'] = (df['redzone_comp_away'] / df['redzone_att_away']) * 100\n",
    "df['redzone_percentage_away'] = np.nan_to_num(df['redzone_percentage_away'], nan=0).astype(int)"
   ]
  },
  {
   "cell_type": "code",
   "execution_count": 95,
   "metadata": {},
   "outputs": [
    {
     "data": {
      "text/plain": [
       "dtype('int64')"
      ]
     },
     "execution_count": 95,
     "metadata": {},
     "output_type": "execute_result"
    }
   ],
   "source": [
    "df['redzone_percentage_away'].dtype"
   ]
  },
  {
   "cell_type": "code",
   "execution_count": 96,
   "metadata": {},
   "outputs": [
    {
     "data": {
      "text/plain": [
       "0"
      ]
     },
     "execution_count": 96,
     "metadata": {},
     "output_type": "execute_result"
    }
   ],
   "source": [
    "df['redzone_percentage_away'].isna().sum()"
   ]
  },
  {
   "cell_type": "markdown",
   "metadata": {},
   "source": [
    "- Drop red zone columns that I replaced with %"
   ]
  },
  {
   "cell_type": "code",
   "execution_count": 97,
   "metadata": {},
   "outputs": [],
   "source": [
    "df.drop(columns=['redzone_comp_away', 'redzone_att_away','redzone_comp_home','redzone_att_home'], inplace=True)"
   ]
  },
  {
   "cell_type": "markdown",
   "metadata": {},
   "source": [
    "- Drop special teams columns"
   ]
  },
  {
   "cell_type": "code",
   "execution_count": 99,
   "metadata": {},
   "outputs": [],
   "source": [
    "df.drop(columns=['def_st_td_away','def_st_td_home'], inplace=True)"
   ]
  },
  {
   "cell_type": "code",
   "execution_count": 104,
   "metadata": {},
   "outputs": [],
   "source": [
    "df.drop(columns=['fourth_down_comp_home','fourth_down_att_home','fourth_down_att_away','fourth_down_comp_away'], inplace=True)"
   ]
  },
  {
   "cell_type": "code",
   "execution_count": 107,
   "metadata": {},
   "outputs": [
    {
     "data": {
      "text/plain": [
       "dtype('int64')"
      ]
     },
     "execution_count": 107,
     "metadata": {},
     "output_type": "execute_result"
    }
   ],
   "source": [
    "df['score_home'].dtype"
   ]
  },
  {
   "cell_type": "markdown",
   "metadata": {},
   "source": [
    "- Convert rush yards to an average"
   ]
  },
  {
   "cell_type": "code",
   "execution_count": 114,
   "metadata": {},
   "outputs": [],
   "source": [
    "df['rush_avg_away'] = (df['rush_yards_away'] / df['rush_att_away']) * 100\n",
    "df['rush_avg_away'] = np.nan_to_num(df['rush_avg_away'], nan=0).astype(int)"
   ]
  },
  {
   "cell_type": "code",
   "execution_count": 117,
   "metadata": {},
   "outputs": [],
   "source": [
    "df['rush_avg_home'] = (df['rush_yards_home'] / df['rush_att_home']) * 100\n",
    "df['rush_avg_home'] = np.nan_to_num(df['rush_avg_home'], nan=0).astype(int)"
   ]
  },
  {
   "cell_type": "code",
   "execution_count": 122,
   "metadata": {},
   "outputs": [],
   "source": [
    "df.drop(columns=['third_down_comp_away','third_down_att_away', 'third_down_comp_home','third_down_att_home'], inplace=True)"
   ]
  },
  {
   "cell_type": "code",
   "execution_count": 124,
   "metadata": {},
   "outputs": [],
   "source": [
    "df.drop(columns=['drives_away','drives_home'], inplace=True)"
   ]
  },
  {
   "cell_type": "code",
   "execution_count": 126,
   "metadata": {},
   "outputs": [],
   "source": [
    "df.drop(columns=['rush_att_away','rush_yards_away','rush_att_home','rush_yards_home'], inplace=True)"
   ]
  },
  {
   "cell_type": "code",
   "execution_count": 140,
   "metadata": {},
   "outputs": [],
   "source": [
    "df.drop(columns=['pen_avg_away'], inplace=True)"
   ]
  },
  {
   "cell_type": "markdown",
   "metadata": {},
   "source": [
    "- Remove Wildcard , Division , Conference, Superbowl"
   ]
  },
  {
   "cell_type": "code",
   "execution_count": 149,
   "metadata": {},
   "outputs": [],
   "source": [
    "# Values to remove\n",
    "values_to_remove = ['Wildcard', 'Division', 'Conference', 'Superbowl']\n",
    "# Create a new column 'week_cleaned' with the filtered values\n",
    "df['week_cleaned'] = df['week'].apply(lambda x: x if x not in values_to_remove else np.nan)"
   ]
  },
  {
   "cell_type": "code",
   "execution_count": 151,
   "metadata": {},
   "outputs": [],
   "source": [
    "# Convert 'week_cleaned' to numeric, coercing errors and replacing NaN with a specific value (e.g., 0)\n",
    "df['week_cleaned'] = pd.to_numeric(df['week_cleaned'], errors='coerce').fillna(0).astype(int)"
   ]
  },
  {
   "cell_type": "code",
   "execution_count": 152,
   "metadata": {},
   "outputs": [
    {
     "data": {
      "text/plain": [
       "dtype('int64')"
      ]
     },
     "execution_count": 152,
     "metadata": {},
     "output_type": "execute_result"
    }
   ],
   "source": [
    "df['week_cleaned'].dtype"
   ]
  },
  {
   "cell_type": "code",
   "execution_count": null,
   "metadata": {},
   "outputs": [],
   "source": [
    "# Define features and target variable\n",
    "X = df[[]]\n",
    "y = df['winner']"
   ]
  },
  {
   "cell_type": "code",
   "execution_count": 153,
   "metadata": {},
   "outputs": [
    {
     "data": {
      "text/plain": [
       "Index(['season', 'week', 'date', 'away', 'home', 'score_away', 'score_home',\n",
       "       'first_downs_away', 'first_downs_home', 'plays_away', 'plays_home',\n",
       "       'yards_away', 'yards_home', 'pass_yards_away', 'pass_yards_home',\n",
       "       'sacks_num_away', 'sacks_yards_away', 'sacks_num_home',\n",
       "       'sacks_yards_home', 'pen_num_away', 'pen_yards_away', 'pen_num_home',\n",
       "       'pen_yards_home', 'fumbles_away', 'fumbles_home', 'interceptions_away',\n",
       "       'interceptions_home', 'possession_away', 'possession_home', 'winner',\n",
       "       'fourth_down__away', 'fourth_down__home', 'third_down_away',\n",
       "       'third_down_home', 'pass_percentage_away', 'pass_percentage_home',\n",
       "       'redzone_percentage_home', 'redzone_percentage_away', 'rush_avg_away',\n",
       "       'rush_avg_home', 'week_cleaned'],\n",
       "      dtype='object')"
      ]
     },
     "execution_count": 153,
     "metadata": {},
     "output_type": "execute_result"
    }
   ],
   "source": [
    "df.columns"
   ]
  },
  {
   "cell_type": "code",
   "execution_count": 156,
   "metadata": {},
   "outputs": [
    {
     "name": "stdout",
     "output_type": "stream",
     "text": [
      "<class 'pandas.core.frame.DataFrame'>\n",
      "RangeIndex: 5929 entries, 0 to 5928\n",
      "Data columns (total 41 columns):\n",
      " #   Column                   Non-Null Count  Dtype \n",
      "---  ------                   --------------  ----- \n",
      " 0   season                   5929 non-null   int64 \n",
      " 1   week                     5929 non-null   object\n",
      " 2   date                     5929 non-null   object\n",
      " 3   away                     5929 non-null   object\n",
      " 4   home                     5929 non-null   object\n",
      " 5   score_away               5929 non-null   int64 \n",
      " 6   score_home               5929 non-null   int64 \n",
      " 7   first_downs_away         5929 non-null   int64 \n",
      " 8   first_downs_home         5929 non-null   int64 \n",
      " 9   plays_away               5929 non-null   int64 \n",
      " 10  plays_home               5929 non-null   int64 \n",
      " 11  yards_away               5929 non-null   int64 \n",
      " 12  yards_home               5929 non-null   int64 \n",
      " 13  pass_yards_away          5929 non-null   int64 \n",
      " 14  pass_yards_home          5929 non-null   int64 \n",
      " 15  sacks_num_away           5929 non-null   int64 \n",
      " 16  sacks_yards_away         5929 non-null   int64 \n",
      " 17  sacks_num_home           5929 non-null   int64 \n",
      " 18  sacks_yards_home         5929 non-null   int64 \n",
      " 19  pen_num_away             5929 non-null   int64 \n",
      " 20  pen_yards_away           5929 non-null   int64 \n",
      " 21  pen_num_home             5929 non-null   int64 \n",
      " 22  pen_yards_home           5929 non-null   int64 \n",
      " 23  fumbles_away             5929 non-null   int64 \n",
      " 24  fumbles_home             5929 non-null   int64 \n",
      " 25  interceptions_away       5929 non-null   int64 \n",
      " 26  interceptions_home       5929 non-null   int64 \n",
      " 27  possession_away          5929 non-null   object\n",
      " 28  possession_home          5929 non-null   object\n",
      " 29  winner                   5929 non-null   int64 \n",
      " 30  fourth_down__away        5929 non-null   int64 \n",
      " 31  fourth_down__home        5929 non-null   int64 \n",
      " 32  third_down_away          5929 non-null   int64 \n",
      " 33  third_down_home          5929 non-null   int64 \n",
      " 34  pass_percentage_away     5929 non-null   int64 \n",
      " 35  pass_percentage_home     5929 non-null   int64 \n",
      " 36  redzone_percentage_home  5929 non-null   int64 \n",
      " 37  redzone_percentage_away  5929 non-null   int64 \n",
      " 38  rush_avg_away            5929 non-null   int64 \n",
      " 39  rush_avg_home            5929 non-null   int64 \n",
      " 40  week_cleaned             5929 non-null   int64 \n",
      "dtypes: int64(35), object(6)\n",
      "memory usage: 1.9+ MB\n"
     ]
    }
   ],
   "source": [
    "df.info()"
   ]
  },
  {
   "cell_type": "code",
   "execution_count": 157,
   "metadata": {},
   "outputs": [
    {
     "data": {
      "text/plain": [
       "Index(['season', 'week', 'date', 'away', 'home', 'score_away', 'score_home',\n",
       "       'first_downs_away', 'first_downs_home', 'plays_away', 'plays_home',\n",
       "       'yards_away', 'yards_home', 'pass_yards_away', 'pass_yards_home',\n",
       "       'sacks_num_away', 'sacks_yards_away', 'sacks_num_home',\n",
       "       'sacks_yards_home', 'pen_num_away', 'pen_yards_away', 'pen_num_home',\n",
       "       'pen_yards_home', 'fumbles_away', 'fumbles_home', 'interceptions_away',\n",
       "       'interceptions_home', 'possession_away', 'possession_home', 'winner',\n",
       "       'fourth_down__away', 'fourth_down__home', 'third_down_away',\n",
       "       'third_down_home', 'pass_percentage_away', 'pass_percentage_home',\n",
       "       'redzone_percentage_home', 'redzone_percentage_away', 'rush_avg_away',\n",
       "       'rush_avg_home', 'week_cleaned'],\n",
       "      dtype='object')"
      ]
     },
     "execution_count": 157,
     "metadata": {},
     "output_type": "execute_result"
    }
   ],
   "source": [
    "df.columns"
   ]
  },
  {
   "cell_type": "code",
   "execution_count": 158,
   "metadata": {},
   "outputs": [
    {
     "data": {
      "text/plain": [
       "dtype('int64')"
      ]
     },
     "execution_count": 158,
     "metadata": {},
     "output_type": "execute_result"
    }
   ],
   "source": [
    "df['week_cleaned'].dtype"
   ]
  },
  {
   "cell_type": "code",
   "execution_count": 162,
   "metadata": {},
   "outputs": [],
   "source": [
    "df.drop(columns=['week'], inplace=True)"
   ]
  },
  {
   "cell_type": "code",
   "execution_count": 163,
   "metadata": {},
   "outputs": [
    {
     "data": {
      "text/plain": [
       "Index(['season', 'date', 'away', 'home', 'score_away', 'score_home',\n",
       "       'first_downs_away', 'first_downs_home', 'plays_away', 'plays_home',\n",
       "       'yards_away', 'yards_home', 'pass_yards_away', 'pass_yards_home',\n",
       "       'sacks_num_away', 'sacks_yards_away', 'sacks_num_home',\n",
       "       'sacks_yards_home', 'pen_num_away', 'pen_yards_away', 'pen_num_home',\n",
       "       'pen_yards_home', 'fumbles_away', 'fumbles_home', 'interceptions_away',\n",
       "       'interceptions_home', 'possession_away', 'possession_home', 'winner',\n",
       "       'fourth_down__away', 'fourth_down__home', 'third_down_away',\n",
       "       'third_down_home', 'pass_percentage_away', 'pass_percentage_home',\n",
       "       'redzone_percentage_home', 'redzone_percentage_away', 'rush_avg_away',\n",
       "       'rush_avg_home', 'week_cleaned'],\n",
       "      dtype='object')"
      ]
     },
     "execution_count": 163,
     "metadata": {},
     "output_type": "execute_result"
    }
   ],
   "source": [
    "df.columns"
   ]
  },
  {
   "cell_type": "code",
   "execution_count": 164,
   "metadata": {},
   "outputs": [
    {
     "name": "stdout",
     "output_type": "stream",
     "text": [
      "<class 'pandas.core.frame.DataFrame'>\n",
      "RangeIndex: 5929 entries, 0 to 5928\n",
      "Data columns (total 40 columns):\n",
      " #   Column                   Non-Null Count  Dtype \n",
      "---  ------                   --------------  ----- \n",
      " 0   season                   5929 non-null   int64 \n",
      " 1   date                     5929 non-null   object\n",
      " 2   away                     5929 non-null   object\n",
      " 3   home                     5929 non-null   object\n",
      " 4   score_away               5929 non-null   int64 \n",
      " 5   score_home               5929 non-null   int64 \n",
      " 6   first_downs_away         5929 non-null   int64 \n",
      " 7   first_downs_home         5929 non-null   int64 \n",
      " 8   plays_away               5929 non-null   int64 \n",
      " 9   plays_home               5929 non-null   int64 \n",
      " 10  yards_away               5929 non-null   int64 \n",
      " 11  yards_home               5929 non-null   int64 \n",
      " 12  pass_yards_away          5929 non-null   int64 \n",
      " 13  pass_yards_home          5929 non-null   int64 \n",
      " 14  sacks_num_away           5929 non-null   int64 \n",
      " 15  sacks_yards_away         5929 non-null   int64 \n",
      " 16  sacks_num_home           5929 non-null   int64 \n",
      " 17  sacks_yards_home         5929 non-null   int64 \n",
      " 18  pen_num_away             5929 non-null   int64 \n",
      " 19  pen_yards_away           5929 non-null   int64 \n",
      " 20  pen_num_home             5929 non-null   int64 \n",
      " 21  pen_yards_home           5929 non-null   int64 \n",
      " 22  fumbles_away             5929 non-null   int64 \n",
      " 23  fumbles_home             5929 non-null   int64 \n",
      " 24  interceptions_away       5929 non-null   int64 \n",
      " 25  interceptions_home       5929 non-null   int64 \n",
      " 26  possession_away          5929 non-null   object\n",
      " 27  possession_home          5929 non-null   object\n",
      " 28  winner                   5929 non-null   int64 \n",
      " 29  fourth_down__away        5929 non-null   int64 \n",
      " 30  fourth_down__home        5929 non-null   int64 \n",
      " 31  third_down_away          5929 non-null   int64 \n",
      " 32  third_down_home          5929 non-null   int64 \n",
      " 33  pass_percentage_away     5929 non-null   int64 \n",
      " 34  pass_percentage_home     5929 non-null   int64 \n",
      " 35  redzone_percentage_home  5929 non-null   int64 \n",
      " 36  redzone_percentage_away  5929 non-null   int64 \n",
      " 37  rush_avg_away            5929 non-null   int64 \n",
      " 38  rush_avg_home            5929 non-null   int64 \n",
      " 39  week_cleaned             5929 non-null   int64 \n",
      "dtypes: int64(35), object(5)\n",
      "memory usage: 1.8+ MB\n"
     ]
    }
   ],
   "source": [
    "df.info()"
   ]
  },
  {
   "cell_type": "markdown",
   "metadata": {},
   "source": [
    "- Convert Date column and season column"
   ]
  },
  {
   "cell_type": "code",
   "execution_count": 165,
   "metadata": {},
   "outputs": [],
   "source": [
    "df['date'] = pd.to_datetime(df['date'], errors='coerce')"
   ]
  },
  {
   "cell_type": "code",
   "execution_count": 166,
   "metadata": {},
   "outputs": [],
   "source": [
    "# Calculate the difference in days from the first date\n",
    "day_diff = (df['date'] - df['date'].iloc[0]).dt.days\n",
    "\n",
    "# Identify when the gap between consecutive dates is greater than 30 days\n",
    "season_change = day_diff.diff().fillna(0) > 30\n",
    "\n",
    "# Assign seasons based on date gaps\n",
    "df['season'] = 2002 + season_change.cumsum().astype(int)"
   ]
  },
  {
   "cell_type": "code",
   "execution_count": 169,
   "metadata": {},
   "outputs": [
    {
     "data": {
      "text/html": [
       "<div>\n",
       "<style scoped>\n",
       "    .dataframe tbody tr th:only-of-type {\n",
       "        vertical-align: middle;\n",
       "    }\n",
       "\n",
       "    .dataframe tbody tr th {\n",
       "        vertical-align: top;\n",
       "    }\n",
       "\n",
       "    .dataframe thead th {\n",
       "        text-align: right;\n",
       "    }\n",
       "</style>\n",
       "<table border=\"1\" class=\"dataframe\">\n",
       "  <thead>\n",
       "    <tr style=\"text-align: right;\">\n",
       "      <th></th>\n",
       "      <th>season</th>\n",
       "      <th>date</th>\n",
       "      <th>away</th>\n",
       "      <th>home</th>\n",
       "      <th>score_away</th>\n",
       "      <th>score_home</th>\n",
       "      <th>first_downs_away</th>\n",
       "      <th>first_downs_home</th>\n",
       "      <th>plays_away</th>\n",
       "      <th>plays_home</th>\n",
       "      <th>...</th>\n",
       "      <th>fourth_down__home</th>\n",
       "      <th>third_down_away</th>\n",
       "      <th>third_down_home</th>\n",
       "      <th>pass_percentage_away</th>\n",
       "      <th>pass_percentage_home</th>\n",
       "      <th>redzone_percentage_home</th>\n",
       "      <th>redzone_percentage_away</th>\n",
       "      <th>rush_avg_away</th>\n",
       "      <th>rush_avg_home</th>\n",
       "      <th>week_cleaned</th>\n",
       "    </tr>\n",
       "  </thead>\n",
       "  <tbody>\n",
       "    <tr>\n",
       "      <th>0</th>\n",
       "      <td>2002</td>\n",
       "      <td>2002-09-05</td>\n",
       "      <td>49ers</td>\n",
       "      <td>Giants</td>\n",
       "      <td>16</td>\n",
       "      <td>13</td>\n",
       "      <td>13</td>\n",
       "      <td>21</td>\n",
       "      <td>51</td>\n",
       "      <td>70</td>\n",
       "      <td>...</td>\n",
       "      <td>0</td>\n",
       "      <td>33</td>\n",
       "      <td>56</td>\n",
       "      <td>61</td>\n",
       "      <td>62</td>\n",
       "      <td>0</td>\n",
       "      <td>0</td>\n",
       "      <td>451</td>\n",
       "      <td>195</td>\n",
       "      <td>1</td>\n",
       "    </tr>\n",
       "    <tr>\n",
       "      <th>1</th>\n",
       "      <td>2002</td>\n",
       "      <td>2002-09-08</td>\n",
       "      <td>Jets</td>\n",
       "      <td>Bills</td>\n",
       "      <td>37</td>\n",
       "      <td>31</td>\n",
       "      <td>18</td>\n",
       "      <td>26</td>\n",
       "      <td>47</td>\n",
       "      <td>75</td>\n",
       "      <td>...</td>\n",
       "      <td>100</td>\n",
       "      <td>25</td>\n",
       "      <td>41</td>\n",
       "      <td>80</td>\n",
       "      <td>66</td>\n",
       "      <td>0</td>\n",
       "      <td>0</td>\n",
       "      <td>521</td>\n",
       "      <td>443</td>\n",
       "      <td>1</td>\n",
       "    </tr>\n",
       "    <tr>\n",
       "      <th>2</th>\n",
       "      <td>2002</td>\n",
       "      <td>2002-09-08</td>\n",
       "      <td>Vikings</td>\n",
       "      <td>Bears</td>\n",
       "      <td>23</td>\n",
       "      <td>27</td>\n",
       "      <td>19</td>\n",
       "      <td>20</td>\n",
       "      <td>62</td>\n",
       "      <td>60</td>\n",
       "      <td>...</td>\n",
       "      <td>0</td>\n",
       "      <td>38</td>\n",
       "      <td>53</td>\n",
       "      <td>57</td>\n",
       "      <td>60</td>\n",
       "      <td>0</td>\n",
       "      <td>0</td>\n",
       "      <td>424</td>\n",
       "      <td>307</td>\n",
       "      <td>1</td>\n",
       "    </tr>\n",
       "    <tr>\n",
       "      <th>3</th>\n",
       "      <td>2002</td>\n",
       "      <td>2002-09-08</td>\n",
       "      <td>Chargers</td>\n",
       "      <td>Bengals</td>\n",
       "      <td>34</td>\n",
       "      <td>6</td>\n",
       "      <td>27</td>\n",
       "      <td>13</td>\n",
       "      <td>65</td>\n",
       "      <td>48</td>\n",
       "      <td>...</td>\n",
       "      <td>0</td>\n",
       "      <td>60</td>\n",
       "      <td>36</td>\n",
       "      <td>78</td>\n",
       "      <td>58</td>\n",
       "      <td>0</td>\n",
       "      <td>0</td>\n",
       "      <td>535</td>\n",
       "      <td>276</td>\n",
       "      <td>1</td>\n",
       "    </tr>\n",
       "    <tr>\n",
       "      <th>4</th>\n",
       "      <td>2002</td>\n",
       "      <td>2002-09-08</td>\n",
       "      <td>Chiefs</td>\n",
       "      <td>Browns</td>\n",
       "      <td>40</td>\n",
       "      <td>39</td>\n",
       "      <td>24</td>\n",
       "      <td>24</td>\n",
       "      <td>59</td>\n",
       "      <td>61</td>\n",
       "      <td>...</td>\n",
       "      <td>0</td>\n",
       "      <td>45</td>\n",
       "      <td>36</td>\n",
       "      <td>68</td>\n",
       "      <td>70</td>\n",
       "      <td>0</td>\n",
       "      <td>0</td>\n",
       "      <td>646</td>\n",
       "      <td>295</td>\n",
       "      <td>1</td>\n",
       "    </tr>\n",
       "  </tbody>\n",
       "</table>\n",
       "<p>5 rows × 40 columns</p>\n",
       "</div>"
      ],
      "text/plain": [
       "   season       date      away     home  score_away  score_home  \\\n",
       "0    2002 2002-09-05     49ers   Giants          16          13   \n",
       "1    2002 2002-09-08      Jets    Bills          37          31   \n",
       "2    2002 2002-09-08   Vikings    Bears          23          27   \n",
       "3    2002 2002-09-08  Chargers  Bengals          34           6   \n",
       "4    2002 2002-09-08    Chiefs   Browns          40          39   \n",
       "\n",
       "   first_downs_away  first_downs_home  plays_away  plays_home  ...  \\\n",
       "0                13                21          51          70  ...   \n",
       "1                18                26          47          75  ...   \n",
       "2                19                20          62          60  ...   \n",
       "3                27                13          65          48  ...   \n",
       "4                24                24          59          61  ...   \n",
       "\n",
       "   fourth_down__home  third_down_away  third_down_home  pass_percentage_away  \\\n",
       "0                  0               33               56                    61   \n",
       "1                100               25               41                    80   \n",
       "2                  0               38               53                    57   \n",
       "3                  0               60               36                    78   \n",
       "4                  0               45               36                    68   \n",
       "\n",
       "   pass_percentage_home  redzone_percentage_home  redzone_percentage_away  \\\n",
       "0                    62                        0                        0   \n",
       "1                    66                        0                        0   \n",
       "2                    60                        0                        0   \n",
       "3                    58                        0                        0   \n",
       "4                    70                        0                        0   \n",
       "\n",
       "   rush_avg_away  rush_avg_home  week_cleaned  \n",
       "0            451            195             1  \n",
       "1            521            443             1  \n",
       "2            424            307             1  \n",
       "3            535            276             1  \n",
       "4            646            295             1  \n",
       "\n",
       "[5 rows x 40 columns]"
      ]
     },
     "execution_count": 169,
     "metadata": {},
     "output_type": "execute_result"
    }
   ],
   "source": [
    "df.head()"
   ]
  },
  {
   "cell_type": "code",
   "execution_count": 170,
   "metadata": {},
   "outputs": [
    {
     "data": {
      "text/plain": [
       "dtype('int64')"
      ]
     },
     "execution_count": 170,
     "metadata": {},
     "output_type": "execute_result"
    }
   ],
   "source": [
    "df['season'].dtype"
   ]
  },
  {
   "cell_type": "code",
   "execution_count": 172,
   "metadata": {},
   "outputs": [],
   "source": [
    "df['year'] = df['date'].dt.year\n",
    "df['month'] = df['date'].dt.month\n",
    "df['day'] = df['date'].dt.day\n",
    "df['day_of_week'] = df['date'].dt.dayofweek  \n",
    "df['week_of_year'] = df['date'].dt.isocalendar().week"
   ]
  },
  {
   "cell_type": "code",
   "execution_count": 173,
   "metadata": {},
   "outputs": [
    {
     "data": {
      "text/plain": [
       "Index(['season', 'date', 'away', 'home', 'score_away', 'score_home',\n",
       "       'first_downs_away', 'first_downs_home', 'plays_away', 'plays_home',\n",
       "       'yards_away', 'yards_home', 'pass_yards_away', 'pass_yards_home',\n",
       "       'sacks_num_away', 'sacks_yards_away', 'sacks_num_home',\n",
       "       'sacks_yards_home', 'pen_num_away', 'pen_yards_away', 'pen_num_home',\n",
       "       'pen_yards_home', 'fumbles_away', 'fumbles_home', 'interceptions_away',\n",
       "       'interceptions_home', 'possession_away', 'possession_home', 'winner',\n",
       "       'fourth_down__away', 'fourth_down__home', 'third_down_away',\n",
       "       'third_down_home', 'pass_percentage_away', 'pass_percentage_home',\n",
       "       'redzone_percentage_home', 'redzone_percentage_away', 'rush_avg_away',\n",
       "       'rush_avg_home', 'week_cleaned', 'year', 'month', 'day', 'day_of_week',\n",
       "       'week_of_year'],\n",
       "      dtype='object')"
      ]
     },
     "execution_count": 173,
     "metadata": {},
     "output_type": "execute_result"
    }
   ],
   "source": [
    "df.columns"
   ]
  },
  {
   "cell_type": "code",
   "execution_count": 174,
   "metadata": {},
   "outputs": [
    {
     "data": {
      "text/plain": [
       "dtype('int32')"
      ]
     },
     "execution_count": 174,
     "metadata": {},
     "output_type": "execute_result"
    }
   ],
   "source": [
    "df['year'].dtype"
   ]
  },
  {
   "cell_type": "code",
   "execution_count": 175,
   "metadata": {},
   "outputs": [
    {
     "data": {
      "text/html": [
       "<div>\n",
       "<style scoped>\n",
       "    .dataframe tbody tr th:only-of-type {\n",
       "        vertical-align: middle;\n",
       "    }\n",
       "\n",
       "    .dataframe tbody tr th {\n",
       "        vertical-align: top;\n",
       "    }\n",
       "\n",
       "    .dataframe thead th {\n",
       "        text-align: right;\n",
       "    }\n",
       "</style>\n",
       "<table border=\"1\" class=\"dataframe\">\n",
       "  <thead>\n",
       "    <tr style=\"text-align: right;\">\n",
       "      <th></th>\n",
       "      <th>season</th>\n",
       "      <th>date</th>\n",
       "      <th>away</th>\n",
       "      <th>home</th>\n",
       "      <th>score_away</th>\n",
       "      <th>score_home</th>\n",
       "      <th>first_downs_away</th>\n",
       "      <th>first_downs_home</th>\n",
       "      <th>plays_away</th>\n",
       "      <th>plays_home</th>\n",
       "      <th>...</th>\n",
       "      <th>redzone_percentage_home</th>\n",
       "      <th>redzone_percentage_away</th>\n",
       "      <th>rush_avg_away</th>\n",
       "      <th>rush_avg_home</th>\n",
       "      <th>week_cleaned</th>\n",
       "      <th>year</th>\n",
       "      <th>month</th>\n",
       "      <th>day</th>\n",
       "      <th>day_of_week</th>\n",
       "      <th>week_of_year</th>\n",
       "    </tr>\n",
       "  </thead>\n",
       "  <tbody>\n",
       "    <tr>\n",
       "      <th>0</th>\n",
       "      <td>2002</td>\n",
       "      <td>2002-09-05</td>\n",
       "      <td>49ers</td>\n",
       "      <td>Giants</td>\n",
       "      <td>16</td>\n",
       "      <td>13</td>\n",
       "      <td>13</td>\n",
       "      <td>21</td>\n",
       "      <td>51</td>\n",
       "      <td>70</td>\n",
       "      <td>...</td>\n",
       "      <td>0</td>\n",
       "      <td>0</td>\n",
       "      <td>451</td>\n",
       "      <td>195</td>\n",
       "      <td>1</td>\n",
       "      <td>2002</td>\n",
       "      <td>9</td>\n",
       "      <td>5</td>\n",
       "      <td>3</td>\n",
       "      <td>36</td>\n",
       "    </tr>\n",
       "    <tr>\n",
       "      <th>1</th>\n",
       "      <td>2002</td>\n",
       "      <td>2002-09-08</td>\n",
       "      <td>Jets</td>\n",
       "      <td>Bills</td>\n",
       "      <td>37</td>\n",
       "      <td>31</td>\n",
       "      <td>18</td>\n",
       "      <td>26</td>\n",
       "      <td>47</td>\n",
       "      <td>75</td>\n",
       "      <td>...</td>\n",
       "      <td>0</td>\n",
       "      <td>0</td>\n",
       "      <td>521</td>\n",
       "      <td>443</td>\n",
       "      <td>1</td>\n",
       "      <td>2002</td>\n",
       "      <td>9</td>\n",
       "      <td>8</td>\n",
       "      <td>6</td>\n",
       "      <td>36</td>\n",
       "    </tr>\n",
       "    <tr>\n",
       "      <th>2</th>\n",
       "      <td>2002</td>\n",
       "      <td>2002-09-08</td>\n",
       "      <td>Vikings</td>\n",
       "      <td>Bears</td>\n",
       "      <td>23</td>\n",
       "      <td>27</td>\n",
       "      <td>19</td>\n",
       "      <td>20</td>\n",
       "      <td>62</td>\n",
       "      <td>60</td>\n",
       "      <td>...</td>\n",
       "      <td>0</td>\n",
       "      <td>0</td>\n",
       "      <td>424</td>\n",
       "      <td>307</td>\n",
       "      <td>1</td>\n",
       "      <td>2002</td>\n",
       "      <td>9</td>\n",
       "      <td>8</td>\n",
       "      <td>6</td>\n",
       "      <td>36</td>\n",
       "    </tr>\n",
       "    <tr>\n",
       "      <th>3</th>\n",
       "      <td>2002</td>\n",
       "      <td>2002-09-08</td>\n",
       "      <td>Chargers</td>\n",
       "      <td>Bengals</td>\n",
       "      <td>34</td>\n",
       "      <td>6</td>\n",
       "      <td>27</td>\n",
       "      <td>13</td>\n",
       "      <td>65</td>\n",
       "      <td>48</td>\n",
       "      <td>...</td>\n",
       "      <td>0</td>\n",
       "      <td>0</td>\n",
       "      <td>535</td>\n",
       "      <td>276</td>\n",
       "      <td>1</td>\n",
       "      <td>2002</td>\n",
       "      <td>9</td>\n",
       "      <td>8</td>\n",
       "      <td>6</td>\n",
       "      <td>36</td>\n",
       "    </tr>\n",
       "    <tr>\n",
       "      <th>4</th>\n",
       "      <td>2002</td>\n",
       "      <td>2002-09-08</td>\n",
       "      <td>Chiefs</td>\n",
       "      <td>Browns</td>\n",
       "      <td>40</td>\n",
       "      <td>39</td>\n",
       "      <td>24</td>\n",
       "      <td>24</td>\n",
       "      <td>59</td>\n",
       "      <td>61</td>\n",
       "      <td>...</td>\n",
       "      <td>0</td>\n",
       "      <td>0</td>\n",
       "      <td>646</td>\n",
       "      <td>295</td>\n",
       "      <td>1</td>\n",
       "      <td>2002</td>\n",
       "      <td>9</td>\n",
       "      <td>8</td>\n",
       "      <td>6</td>\n",
       "      <td>36</td>\n",
       "    </tr>\n",
       "  </tbody>\n",
       "</table>\n",
       "<p>5 rows × 45 columns</p>\n",
       "</div>"
      ],
      "text/plain": [
       "   season       date      away     home  score_away  score_home  \\\n",
       "0    2002 2002-09-05     49ers   Giants          16          13   \n",
       "1    2002 2002-09-08      Jets    Bills          37          31   \n",
       "2    2002 2002-09-08   Vikings    Bears          23          27   \n",
       "3    2002 2002-09-08  Chargers  Bengals          34           6   \n",
       "4    2002 2002-09-08    Chiefs   Browns          40          39   \n",
       "\n",
       "   first_downs_away  first_downs_home  plays_away  plays_home  ...  \\\n",
       "0                13                21          51          70  ...   \n",
       "1                18                26          47          75  ...   \n",
       "2                19                20          62          60  ...   \n",
       "3                27                13          65          48  ...   \n",
       "4                24                24          59          61  ...   \n",
       "\n",
       "   redzone_percentage_home  redzone_percentage_away  rush_avg_away  \\\n",
       "0                        0                        0            451   \n",
       "1                        0                        0            521   \n",
       "2                        0                        0            424   \n",
       "3                        0                        0            535   \n",
       "4                        0                        0            646   \n",
       "\n",
       "   rush_avg_home  week_cleaned  year  month  day  day_of_week  week_of_year  \n",
       "0            195             1  2002      9    5            3            36  \n",
       "1            443             1  2002      9    8            6            36  \n",
       "2            307             1  2002      9    8            6            36  \n",
       "3            276             1  2002      9    8            6            36  \n",
       "4            295             1  2002      9    8            6            36  \n",
       "\n",
       "[5 rows x 45 columns]"
      ]
     },
     "execution_count": 175,
     "metadata": {},
     "output_type": "execute_result"
    }
   ],
   "source": [
    "df.head()"
   ]
  },
  {
   "cell_type": "code",
   "execution_count": 176,
   "metadata": {},
   "outputs": [],
   "source": [
    "df.drop(columns=['date'], inplace=True)"
   ]
  },
  {
   "cell_type": "code",
   "execution_count": 177,
   "metadata": {},
   "outputs": [
    {
     "data": {
      "text/plain": [
       "Index(['season', 'away', 'home', 'score_away', 'score_home',\n",
       "       'first_downs_away', 'first_downs_home', 'plays_away', 'plays_home',\n",
       "       'yards_away', 'yards_home', 'pass_yards_away', 'pass_yards_home',\n",
       "       'sacks_num_away', 'sacks_yards_away', 'sacks_num_home',\n",
       "       'sacks_yards_home', 'pen_num_away', 'pen_yards_away', 'pen_num_home',\n",
       "       'pen_yards_home', 'fumbles_away', 'fumbles_home', 'interceptions_away',\n",
       "       'interceptions_home', 'possession_away', 'possession_home', 'winner',\n",
       "       'fourth_down__away', 'fourth_down__home', 'third_down_away',\n",
       "       'third_down_home', 'pass_percentage_away', 'pass_percentage_home',\n",
       "       'redzone_percentage_home', 'redzone_percentage_away', 'rush_avg_away',\n",
       "       'rush_avg_home', 'week_cleaned', 'year', 'month', 'day', 'day_of_week',\n",
       "       'week_of_year'],\n",
       "      dtype='object')"
      ]
     },
     "execution_count": 177,
     "metadata": {},
     "output_type": "execute_result"
    }
   ],
   "source": [
    "df.columns"
   ]
  },
  {
   "cell_type": "code",
   "execution_count": 178,
   "metadata": {},
   "outputs": [
    {
     "data": {
      "text/html": [
       "<div>\n",
       "<style scoped>\n",
       "    .dataframe tbody tr th:only-of-type {\n",
       "        vertical-align: middle;\n",
       "    }\n",
       "\n",
       "    .dataframe tbody tr th {\n",
       "        vertical-align: top;\n",
       "    }\n",
       "\n",
       "    .dataframe thead th {\n",
       "        text-align: right;\n",
       "    }\n",
       "</style>\n",
       "<table border=\"1\" class=\"dataframe\">\n",
       "  <thead>\n",
       "    <tr style=\"text-align: right;\">\n",
       "      <th></th>\n",
       "      <th>season</th>\n",
       "      <th>away</th>\n",
       "      <th>home</th>\n",
       "      <th>score_away</th>\n",
       "      <th>score_home</th>\n",
       "      <th>first_downs_away</th>\n",
       "      <th>first_downs_home</th>\n",
       "      <th>plays_away</th>\n",
       "      <th>plays_home</th>\n",
       "      <th>yards_away</th>\n",
       "      <th>...</th>\n",
       "      <th>redzone_percentage_home</th>\n",
       "      <th>redzone_percentage_away</th>\n",
       "      <th>rush_avg_away</th>\n",
       "      <th>rush_avg_home</th>\n",
       "      <th>week_cleaned</th>\n",
       "      <th>year</th>\n",
       "      <th>month</th>\n",
       "      <th>day</th>\n",
       "      <th>day_of_week</th>\n",
       "      <th>week_of_year</th>\n",
       "    </tr>\n",
       "  </thead>\n",
       "  <tbody>\n",
       "    <tr>\n",
       "      <th>0</th>\n",
       "      <td>2002</td>\n",
       "      <td>49ers</td>\n",
       "      <td>Giants</td>\n",
       "      <td>16</td>\n",
       "      <td>13</td>\n",
       "      <td>13</td>\n",
       "      <td>21</td>\n",
       "      <td>51</td>\n",
       "      <td>70</td>\n",
       "      <td>279</td>\n",
       "      <td>...</td>\n",
       "      <td>0</td>\n",
       "      <td>0</td>\n",
       "      <td>451</td>\n",
       "      <td>195</td>\n",
       "      <td>1</td>\n",
       "      <td>2002</td>\n",
       "      <td>9</td>\n",
       "      <td>5</td>\n",
       "      <td>3</td>\n",
       "      <td>36</td>\n",
       "    </tr>\n",
       "    <tr>\n",
       "      <th>1</th>\n",
       "      <td>2002</td>\n",
       "      <td>Jets</td>\n",
       "      <td>Bills</td>\n",
       "      <td>37</td>\n",
       "      <td>31</td>\n",
       "      <td>18</td>\n",
       "      <td>26</td>\n",
       "      <td>47</td>\n",
       "      <td>75</td>\n",
       "      <td>266</td>\n",
       "      <td>...</td>\n",
       "      <td>0</td>\n",
       "      <td>0</td>\n",
       "      <td>521</td>\n",
       "      <td>443</td>\n",
       "      <td>1</td>\n",
       "      <td>2002</td>\n",
       "      <td>9</td>\n",
       "      <td>8</td>\n",
       "      <td>6</td>\n",
       "      <td>36</td>\n",
       "    </tr>\n",
       "    <tr>\n",
       "      <th>2</th>\n",
       "      <td>2002</td>\n",
       "      <td>Vikings</td>\n",
       "      <td>Bears</td>\n",
       "      <td>23</td>\n",
       "      <td>27</td>\n",
       "      <td>19</td>\n",
       "      <td>20</td>\n",
       "      <td>62</td>\n",
       "      <td>60</td>\n",
       "      <td>368</td>\n",
       "      <td>...</td>\n",
       "      <td>0</td>\n",
       "      <td>0</td>\n",
       "      <td>424</td>\n",
       "      <td>307</td>\n",
       "      <td>1</td>\n",
       "      <td>2002</td>\n",
       "      <td>9</td>\n",
       "      <td>8</td>\n",
       "      <td>6</td>\n",
       "      <td>36</td>\n",
       "    </tr>\n",
       "    <tr>\n",
       "      <th>3</th>\n",
       "      <td>2002</td>\n",
       "      <td>Chargers</td>\n",
       "      <td>Bengals</td>\n",
       "      <td>34</td>\n",
       "      <td>6</td>\n",
       "      <td>27</td>\n",
       "      <td>13</td>\n",
       "      <td>65</td>\n",
       "      <td>48</td>\n",
       "      <td>401</td>\n",
       "      <td>...</td>\n",
       "      <td>0</td>\n",
       "      <td>0</td>\n",
       "      <td>535</td>\n",
       "      <td>276</td>\n",
       "      <td>1</td>\n",
       "      <td>2002</td>\n",
       "      <td>9</td>\n",
       "      <td>8</td>\n",
       "      <td>6</td>\n",
       "      <td>36</td>\n",
       "    </tr>\n",
       "    <tr>\n",
       "      <th>4</th>\n",
       "      <td>2002</td>\n",
       "      <td>Chiefs</td>\n",
       "      <td>Browns</td>\n",
       "      <td>40</td>\n",
       "      <td>39</td>\n",
       "      <td>24</td>\n",
       "      <td>24</td>\n",
       "      <td>59</td>\n",
       "      <td>61</td>\n",
       "      <td>470</td>\n",
       "      <td>...</td>\n",
       "      <td>0</td>\n",
       "      <td>0</td>\n",
       "      <td>646</td>\n",
       "      <td>295</td>\n",
       "      <td>1</td>\n",
       "      <td>2002</td>\n",
       "      <td>9</td>\n",
       "      <td>8</td>\n",
       "      <td>6</td>\n",
       "      <td>36</td>\n",
       "    </tr>\n",
       "  </tbody>\n",
       "</table>\n",
       "<p>5 rows × 44 columns</p>\n",
       "</div>"
      ],
      "text/plain": [
       "   season      away     home  score_away  score_home  first_downs_away  \\\n",
       "0    2002     49ers   Giants          16          13                13   \n",
       "1    2002      Jets    Bills          37          31                18   \n",
       "2    2002   Vikings    Bears          23          27                19   \n",
       "3    2002  Chargers  Bengals          34           6                27   \n",
       "4    2002    Chiefs   Browns          40          39                24   \n",
       "\n",
       "   first_downs_home  plays_away  plays_home  yards_away  ...  \\\n",
       "0                21          51          70         279  ...   \n",
       "1                26          47          75         266  ...   \n",
       "2                20          62          60         368  ...   \n",
       "3                13          65          48         401  ...   \n",
       "4                24          59          61         470  ...   \n",
       "\n",
       "   redzone_percentage_home  redzone_percentage_away  rush_avg_away  \\\n",
       "0                        0                        0            451   \n",
       "1                        0                        0            521   \n",
       "2                        0                        0            424   \n",
       "3                        0                        0            535   \n",
       "4                        0                        0            646   \n",
       "\n",
       "   rush_avg_home  week_cleaned  year  month  day  day_of_week  week_of_year  \n",
       "0            195             1  2002      9    5            3            36  \n",
       "1            443             1  2002      9    8            6            36  \n",
       "2            307             1  2002      9    8            6            36  \n",
       "3            276             1  2002      9    8            6            36  \n",
       "4            295             1  2002      9    8            6            36  \n",
       "\n",
       "[5 rows x 44 columns]"
      ]
     },
     "execution_count": 178,
     "metadata": {},
     "output_type": "execute_result"
    }
   ],
   "source": [
    "df.head()"
   ]
  },
  {
   "cell_type": "code",
   "execution_count": 180,
   "metadata": {},
   "outputs": [
    {
     "data": {
      "text/plain": [
       "Index(['season', 'score_away', 'score_home', 'first_downs_away',\n",
       "       'first_downs_home', 'plays_away', 'plays_home', 'yards_away',\n",
       "       'yards_home', 'pass_yards_away', 'pass_yards_home', 'sacks_num_away',\n",
       "       'sacks_yards_away', 'sacks_num_home', 'sacks_yards_home',\n",
       "       'pen_num_away', 'pen_yards_away', 'pen_num_home', 'pen_yards_home',\n",
       "       'fumbles_away', 'fumbles_home', 'interceptions_away',\n",
       "       'interceptions_home', 'possession_away', 'possession_home', 'winner',\n",
       "       'fourth_down__away', 'fourth_down__home', 'third_down_away',\n",
       "       'third_down_home', 'pass_percentage_away', 'pass_percentage_home',\n",
       "       'redzone_percentage_home', 'redzone_percentage_away', 'rush_avg_away',\n",
       "       'rush_avg_home', 'week_cleaned', 'year', 'month', 'day', 'day_of_week',\n",
       "       'week_of_year', 'home_encoded', 'away_encoded'],\n",
       "      dtype='object')"
      ]
     },
     "execution_count": 180,
     "metadata": {},
     "output_type": "execute_result"
    }
   ],
   "source": [
    "df.columns"
   ]
  },
  {
   "cell_type": "code",
   "execution_count": 184,
   "metadata": {},
   "outputs": [
    {
     "data": {
      "text/plain": [
       "dtype('O')"
      ]
     },
     "execution_count": 184,
     "metadata": {},
     "output_type": "execute_result"
    }
   ],
   "source": [
    "df['possession_away'].dtype"
   ]
  },
  {
   "cell_type": "markdown",
   "metadata": {},
   "source": [
    "#### Machine Learning Model"
   ]
  },
  {
   "cell_type": "code",
   "execution_count": 179,
   "metadata": {},
   "outputs": [],
   "source": [
    "from sklearn.preprocessing import LabelEncoder\n",
    "le = LabelEncoder()\n",
    "le_away = LabelEncoder()\n",
    "le_home = LabelEncoder()\n",
    "\n",
    "df['home_encoded'] = le_home.fit_transform(df['home'])\n",
    "df['away_encoded'] = le_away.fit_transform(df['away'])\n",
    "\n",
    "# Drop original categorical columns if not needed\n",
    "df = df.drop(columns=['home', 'away'])"
   ]
  },
  {
   "cell_type": "code",
   "execution_count": 185,
   "metadata": {},
   "outputs": [],
   "source": [
    "df.drop(columns=['possession_away', 'possession_home'], inplace=True)"
   ]
  },
  {
   "cell_type": "code",
   "execution_count": 186,
   "metadata": {},
   "outputs": [
    {
     "data": {
      "text/plain": [
       "Index(['season', 'score_away', 'score_home', 'first_downs_away',\n",
       "       'first_downs_home', 'plays_away', 'plays_home', 'yards_away',\n",
       "       'yards_home', 'pass_yards_away', 'pass_yards_home', 'sacks_num_away',\n",
       "       'sacks_yards_away', 'sacks_num_home', 'sacks_yards_home',\n",
       "       'pen_num_away', 'pen_yards_away', 'pen_num_home', 'pen_yards_home',\n",
       "       'fumbles_away', 'fumbles_home', 'interceptions_away',\n",
       "       'interceptions_home', 'winner', 'fourth_down__away',\n",
       "       'fourth_down__home', 'third_down_away', 'third_down_home',\n",
       "       'pass_percentage_away', 'pass_percentage_home',\n",
       "       'redzone_percentage_home', 'redzone_percentage_away', 'rush_avg_away',\n",
       "       'rush_avg_home', 'week_cleaned', 'year', 'month', 'day', 'day_of_week',\n",
       "       'week_of_year', 'home_encoded', 'away_encoded'],\n",
       "      dtype='object')"
      ]
     },
     "execution_count": 186,
     "metadata": {},
     "output_type": "execute_result"
    }
   ],
   "source": [
    "df.columns"
   ]
  },
  {
   "cell_type": "markdown",
   "metadata": {},
   "source": [
    "- Create a turnover column combining fumbles and interceptions"
   ]
  },
  {
   "cell_type": "code",
   "execution_count": 205,
   "metadata": {},
   "outputs": [
    {
     "name": "stdout",
     "output_type": "stream",
     "text": [
      "   turnovers_home  turnovers_away\n",
      "0               3               1\n",
      "1               3               1\n",
      "2               2               3\n",
      "3               1               0\n",
      "4               1               1\n"
     ]
    }
   ],
   "source": [
    "# Creating the 'turnovers_home' and 'turnovers_away' columns\n",
    "df['turnovers_home'] = df['fumbles_home'] + df['interceptions_home']\n",
    "df['turnovers_away'] = df['fumbles_away'] + df['interceptions_away']\n",
    "\n",
    "# Converting to integers\n",
    "df['turnovers_home'] = df['turnovers_home'].astype(int)\n",
    "df['turnovers_away'] = df['turnovers_away'].astype(int)\n",
    "\n",
    "# Display the updated DataFrame\n",
    "print(df[['turnovers_home', 'turnovers_away']].head())"
   ]
  },
  {
   "cell_type": "code",
   "execution_count": 231,
   "metadata": {},
   "outputs": [
    {
     "name": "stdout",
     "output_type": "stream",
     "text": [
      "Accuracy: 0.84\n",
      "Confusion Matrix:\n",
      "[[628 149]\n",
      " [143 859]]\n",
      "Classification Report:\n",
      "              precision    recall  f1-score   support\n",
      "\n",
      "           0       0.81      0.81      0.81       777\n",
      "           1       0.85      0.86      0.85      1002\n",
      "\n",
      "    accuracy                           0.84      1779\n",
      "   macro avg       0.83      0.83      0.83      1779\n",
      "weighted avg       0.84      0.84      0.84      1779\n",
      "\n"
     ]
    }
   ],
   "source": [
    "from sklearn.model_selection import train_test_split\n",
    "from sklearn.ensemble import RandomForestClassifier\n",
    "from sklearn.metrics import accuracy_score, confusion_matrix, classification_report\n",
    "import joblib  # For saving the model\n",
    "from sklearn.metrics import accuracy_score, confusion_matrix, classification_report \n",
    "\n",
    "new_features = [\n",
    "    'season', \n",
    "    'yards_away',\n",
    "    'yards_home',\n",
    "    'pass_yards_away',\n",
    "    'pass_yards_home',\n",
    "    'turnovers_away',\n",
    "    'turnovers_home',\n",
    "    'third_down_away',\n",
    "    'third_down_home',\n",
    "    'fourth_down__home',\n",
    "    'fourth_down__away',\n",
    "    'pass_percentage_away',\n",
    "    'pass_percentage_home',\n",
    "    'rush_avg_away',\n",
    "    'rush_avg_home',\n",
    "    'week_cleaned',\n",
    "    'home_encoded',\n",
    "    'away_encoded'\n",
    "]\n",
    "\n",
    "target = 'winner'\n",
    "\n",
    "X = df[new_features]\n",
    "y = df[target]\n",
    "\n",
    "X_train, X_test, y_train, y_test = train_test_split(X, y, test_size=0.3, random_state=42)\n",
    "\n",
    "model = RandomForestClassifier(random_state=42)\n",
    "model.fit(X_train, y_train)\n",
    "\n",
    "y_pred = model.predict(X_test)\n",
    "\n",
    "accuracy = accuracy_score(y_test, y_pred)\n",
    "print(f\"Accuracy: {accuracy:.2f}\")\n",
    "\n",
    "cm = confusion_matrix(y_test, y_pred)\n",
    "print(\"Confusion Matrix:\")\n",
    "print(cm)\n",
    "\n",
    "report = classification_report(y_test, y_pred)\n",
    "print(\"Classification Report:\")\n",
    "print(report)"
   ]
  },
  {
   "cell_type": "code",
   "execution_count": 232,
   "metadata": {},
   "outputs": [
    {
     "data": {
      "text/plain": [
       "['random_forest_model.pkl']"
      ]
     },
     "execution_count": 232,
     "metadata": {},
     "output_type": "execute_result"
    }
   ],
   "source": [
    "joblib.dump(model, 'random_forest_model.pkl')"
   ]
  },
  {
   "cell_type": "code",
   "execution_count": null,
   "metadata": {},
   "outputs": [],
   "source": []
  }
 ],
 "metadata": {
  "kernelspec": {
   "display_name": "Python 3",
   "language": "python",
   "name": "python3"
  },
  "language_info": {
   "codemirror_mode": {
    "name": "ipython",
    "version": 3
   },
   "file_extension": ".py",
   "mimetype": "text/x-python",
   "name": "python",
   "nbconvert_exporter": "python",
   "pygments_lexer": "ipython3",
   "version": "3.8.10"
  }
 },
 "nbformat": 4,
 "nbformat_minor": 2
}
